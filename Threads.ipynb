{
 "cells": [
  {
   "cell_type": "code",
   "execution_count": 3,
   "metadata": {},
   "outputs": [
    {
     "name": "stdout",
     "output_type": "stream",
     "text": [
      "task 1 started\n",
      "task 2 started\n",
      "task 1 finished\n",
      "task 2 finished\n",
      "all tasks completed\n"
     ]
    }
   ],
   "source": [
    "#threadings\n",
    "\n",
    "import threading\n",
    "import time\n",
    "\n",
    "def task1():\n",
    "    \n",
    "    print(\"task 1 started\")\n",
    "    time.sleep(2)\n",
    "    print(\"task 1 finished\")\n",
    "    \n",
    "def task2():\n",
    "    \n",
    "    print(\"task 2 started\")\n",
    "    time.sleep(3)\n",
    "    print(\"task 2 finished\")\n",
    "    \n",
    "#create threads\n",
    "thread1=threading.Thread(target=task1)\n",
    "thread2=threading.Thread(target=task2)\n",
    "\n",
    "#start threads\n",
    "thread1.start()\n",
    "thread2.start()\n",
    "\n",
    "#wait for threads to finish(optional)\n",
    "thread1.join()\n",
    "thread2.join()\n",
    "\n",
    "print(\"all tasks completed\")\n",
    "    \n"
   ]
  },
  {
   "cell_type": "code",
   "execution_count": 8,
   "metadata": {},
   "outputs": [
    {
     "name": "stdout",
     "output_type": "stream",
     "text": [
      "task 1:0\n",
      "task 1:1\n",
      "task 1:2\n",
      "task 1:3\n",
      "task 1:4\n",
      "task 2:0\n",
      "task 2:1\n",
      "task 2:2\n",
      "task 2:3\n",
      "task 2:4\n",
      "Total time without threading:10.01seconds\n"
     ]
    }
   ],
   "source": [
    "#function without thread\n",
    "import time\n",
    "\n",
    "def print_numbers(name):\n",
    "    for i in range(5):\n",
    "        print(f\"{name}:{i}\")\n",
    "        time.sleep(1) \n",
    "        \n",
    "#sequential execution\n",
    "start_time=time.time()\n",
    "print_numbers(\"task 1\")\n",
    "print_numbers(\"task 2\")\n",
    "end_time=time.time()\n",
    "\n",
    "print(f\"Total time without threading:{end_time-start_time:.2f}seconds\")"
   ]
  }
 ],
 "metadata": {
  "kernelspec": {
   "display_name": "Python 3",
   "language": "python",
   "name": "python3"
  },
  "language_info": {
   "codemirror_mode": {
    "name": "ipython",
    "version": 3
   },
   "file_extension": ".py",
   "mimetype": "text/x-python",
   "name": "python",
   "nbconvert_exporter": "python",
   "pygments_lexer": "ipython3",
   "version": "3.12.4"
  }
 },
 "nbformat": 4,
 "nbformat_minor": 2
}
